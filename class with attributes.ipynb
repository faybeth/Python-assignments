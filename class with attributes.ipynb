{
 "cells": [
  {
   "cell_type": "markdown",
   "id": "12f9344c",
   "metadata": {},
   "source": [
    "## Class With Attributes\n",
    "1. Write a class car with attributes brand and year add a method called display print a formatted string.\n",
    "2. Create a class employee with name and salary create a class sub manager with an extra department attribute add a method called display,display all full details.\n"
   ]
  },
  {
   "cell_type": "code",
   "execution_count": 6,
   "id": "03100526",
   "metadata": {},
   "outputs": [],
   "source": [
    "# Class car with attributes brand and year\n",
    "#class\n",
    "class Car:\n",
    "    def __init__(self,brand,year):\n",
    "        #initialize attributes\n",
    "        self.brand=brand\n",
    "        self.year=year\n",
    "        #display method\n",
    "    def display(self):\n",
    "        print(f\"Car Brand: {self.brand}, Year of Manufacture:{self.year}\")\n",
    "         "
   ]
  },
  {
   "cell_type": "code",
   "execution_count": null,
   "id": "54add7de",
   "metadata": {},
   "outputs": [
    {
     "name": "stdout",
     "output_type": "stream",
     "text": [
      "Car Brand: Subaru, Year of Manufacture:1980\n",
      "Car Brand: Toyota, Year of Manufacture:2003\n"
     ]
    }
   ],
   "source": [
    "car1=Car(\"Subaru\",1980)\n",
    "car2=Car(\"Toyota\",2003)\n",
    "#display details\n",
    "car1.display()\n",
    "car2.display()"
   ]
  },
  {
   "cell_type": "code",
   "execution_count": 8,
   "id": "14f1d458",
   "metadata": {},
   "outputs": [],
   "source": [
    "#creating a sub manager with an extra attribute department\n",
    "class Employee:\n",
    "    #initialize employee details\n",
    "    def __init__(self,name,salary):\n",
    "        self.name=name\n",
    "        self.salary=salary\n",
    "    def display(self):\n",
    "        print(f\"Name:{self.name} , Salary:{self.salary}\")"
   ]
  },
  {
   "cell_type": "code",
   "execution_count": 13,
   "id": "a70d2361",
   "metadata": {},
   "outputs": [],
   "source": [
    "#define the sub class\n",
    "class Manager(Employee):\n",
    "    def __init__(self,name,salary,department):\n",
    "        #call parent (Employee) constructor using super()\n",
    "        super().__init__(name,salary)\n",
    "        self.department=department\n",
    "    def display(self):\n",
    "        print(f\"Name:{self.name} | Salary:{self.salary} | Department:{self.department}\")  "
   ]
  },
  {
   "cell_type": "code",
   "execution_count": null,
   "id": "e677adb0",
   "metadata": {},
   "outputs": [
    {
     "name": "stdout",
     "output_type": "stream",
     "text": [
      "Name:Faybeth | Salary:75000 | Department:Finance\n",
      "Name:Maria | Salary:50000 | Department:Human Resource\n"
     ]
    }
   ],
   "source": [
    "#Creating an object of manager\n",
    "manager1=Manager(\"Faybeth\",75000,\"Finance\")\n",
    "manager2=Manager(\"Maria\",50000,\"Human Resource\")\n",
    "#calling the display method\n",
    "manager1.display()\n",
    "manager2.display()"
   ]
  }
 ],
 "metadata": {
  "kernelspec": {
   "display_name": "Python 3",
   "language": "python",
   "name": "python3"
  },
  "language_info": {
   "codemirror_mode": {
    "name": "ipython",
    "version": 3
   },
   "file_extension": ".py",
   "mimetype": "text/x-python",
   "name": "python",
   "nbconvert_exporter": "python",
   "pygments_lexer": "ipython3",
   "version": "3.13.7"
  }
 },
 "nbformat": 4,
 "nbformat_minor": 5
}
