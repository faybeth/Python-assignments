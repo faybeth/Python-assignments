{
 "cells": [
  {
   "cell_type": "markdown",
   "id": "1a71c3cf",
   "metadata": {},
   "source": [
    "## PRIME NUMBERS IN PYTHON\n",
    "A prime number is a whole number greater than 1 that can be divided evenly only by 1 and itself.\n",
    "There are different ways to find the prime numbers in Python: \n"
   ]
  },
  {
   "cell_type": "markdown",
   "id": "6a3750dd",
   "metadata": {},
   "source": [
    "**1.Using the for loop**"
   ]
  },
  {
   "cell_type": "code",
   "execution_count": 1,
   "id": "d345c7cf",
   "metadata": {},
   "outputs": [
    {
     "name": "stdout",
     "output_type": "stream",
     "text": [
      "2,3,5,7,11,13,17,19,23,29,31,37,41,43,47,"
     ]
    }
   ],
   "source": [
    "for num in range(2,50):\n",
    "    is_prime=True\n",
    "    for i in range(2,int(num**0.5)+1):\n",
    "        if num % i==0:\n",
    "            is_prime=False\n",
    "            break\n",
    "    if is_prime:\n",
    "        print(num,end=\",\")"
   ]
  },
  {
   "cell_type": "markdown",
   "id": "6ec40538",
   "metadata": {},
   "source": [
    "- Outer for loop:\n",
    "\n",
    " ``for num in range(2,50)``goes through each number between 2 and 50.\n",
    "\n",
    "- Inner for loop:\n",
    "\n",
    "``` for i in range(2,int(num**0.5)+1)``` goes through possible divisors of that number.\n",
    "\n",
    " ```num**0.5 ``` takes the square root of num.Which means ```num**0.5```= square root of num. \n",
    "\n",
    " ``int()`` converts it to an integer i.e a whole number.\n",
    " \n",
    " ``+1`` it helps ensure that the last number the square root is also included because when we use ``Range`` it stops before the end value.\n",
    " \n",
    " - ``Break`` stops the inner loop once a divisor is found.\n",
    " "
   ]
  },
  {
   "cell_type": "markdown",
   "id": "78c27d74",
   "metadata": {},
   "source": [
    "**2.Using the while loop**"
   ]
  },
  {
   "cell_type": "code",
   "execution_count": 2,
   "id": "9ffb8b09",
   "metadata": {},
   "outputs": [
    {
     "name": "stdout",
     "output_type": "stream",
     "text": [
      "2,3,5,7,11,13,17,19,23,29,31,37,41,43,47,"
     ]
    }
   ],
   "source": [
    "num=2  #outer loop\n",
    "while num<=50:\n",
    "    is_prime=True\n",
    "    a=2\n",
    "    while a<= int(num**0.5):  #inner loop\n",
    "        if num %a==0:\n",
    "            is_prime=False\n",
    "            break\n",
    "        a +=1 #without it the loop will run forever\n",
    "    if is_prime:\n",
    "        print(num,end=\",\")\n",
    "    num +=1"
   ]
  },
  {
   "cell_type": "markdown",
   "id": "2a59e250",
   "metadata": {},
   "source": [
    "- The outer while loop increases num from 2 to 50. It goes through each number to test.\n",
    "- The inner while loop checks if the numbers between 2 to square root of num has any divisors.\n",
    "- Break stops the inner loop once a divisor is found\n",
    "- ``a +=1`` is used in the while loop because if you don't use it the loop will run forever"
   ]
  },
  {
   "cell_type": "markdown",
   "id": "10a71075",
   "metadata": {},
   "source": [
    "**3.Using a function**"
   ]
  },
  {
   "cell_type": "code",
   "execution_count": 3,
   "id": "6c157d06",
   "metadata": {},
   "outputs": [
    {
     "name": "stdout",
     "output_type": "stream",
     "text": [
      "2,3,5,7,11,13,17,19,23,29,31,37,41,43,47,"
     ]
    }
   ],
   "source": [
    "def prime(b):\n",
    "    if b<=1:\n",
    "        return False\n",
    "    for i in range(2,int(b**0.5)+1):\n",
    "        if b% i==0:\n",
    "            return False\n",
    "    return True\n",
    "for num in range(2,51):\n",
    "    if prime(num):\n",
    "        print(num,end=\",\")"
   ]
  }
 ],
 "metadata": {
  "kernelspec": {
   "display_name": "Python 3",
   "language": "python",
   "name": "python3"
  },
  "language_info": {
   "codemirror_mode": {
    "name": "ipython",
    "version": 3
   },
   "file_extension": ".py",
   "mimetype": "text/x-python",
   "name": "python",
   "nbconvert_exporter": "python",
   "pygments_lexer": "ipython3",
   "version": "3.13.7"
  }
 },
 "nbformat": 4,
 "nbformat_minor": 5
}
