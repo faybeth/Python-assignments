{
 "cells": [
  {
   "cell_type": "markdown",
   "id": "0726cfbb",
   "metadata": {},
   "source": [
    "## Chatbot Program Using While Loop to Answer Questions About Data Science and AI\n",
    "\n",
    "This is a simple text based chatbot that answers questions about Data Science and Artificial Intelligence(AI).It uses the while loop to keep the conversation going until the user types 'exit'.\n",
    "- The different features used in the program are:\n",
    "1. It responds to keywords such as Data Science,AI,machine language,SQL,python.\n",
    "2. Uses the dictionaries for easy maintenance and if you want to add more knowledge one just adds a new entry to the response dictionary.\n",
    "3. It provides a default response when the chatbot doesn't understand the question.\n",
    "\n",
    "The main purpose of program is to demonstrate the use of while loops,the dictionaries and it also acts as a beginner friendly example that shows how a chatbot works.\n"
   ]
  },
  {
   "cell_type": "code",
   "execution_count": 1,
   "id": "759da93a",
   "metadata": {},
   "outputs": [
    {
     "name": "stdout",
     "output_type": "stream",
     "text": [
      "Hello, I am your Data Science and AI chatbot.\n",
      "Ask me something about Data Science or AI (type'exit'to quit.)\n",
      "Sorry,I don't know that yet.Try asking about data science,AI,Python or Machine learning.\n",
      "Sorry,I don't know that yet.Try asking about data science,AI,Python or Machine learning.\n",
      "Sorry,I don't know that yet.Try asking about data science,AI,Python or Machine learning.\n",
      "Sorry,I don't know that yet.Try asking about data science,AI,Python or Machine learning.\n",
      "Sorry,I don't know that yet.Try asking about data science,AI,Python or Machine learning.\n",
      "SQL is used in Data Science to manage and query data stored in relational databases.\n",
      "Sorry,I don't know that yet.Try asking about data science,AI,Python or Machine learning.\n",
      "Sorry,I don't know that yet.Try asking about data science,AI,Python or Machine learning.\n",
      "Artificial Intelligence is about creating machines that can perform task requiring human-like intelligence\n",
      "Goodbye!\n"
     ]
    }
   ],
   "source": [
    "print(\"Hello, I am your Data Science and AI chatbot.\")\n",
    "print(\"Ask me something about Data Science or AI (type'exit'to quit.)\")\n",
    "# dictionary with keywords and responses\n",
    "responses={\n",
    "    \"data science\":\"Data Science is about analyzing data to gain insights using statistics, programming, and machine learning.\",\n",
    "    \"machine learning\":\"Machine Learning is a subset of AI that enables systems to learn and improve from experience without being explicitly programmed.\",\n",
    "    \"ai\":\"Artificial Intelligence is about creating machines that can perform task requiring human-like intelligence\",\n",
    "    \"python\":\"Python is the most popular programming language in Data Science and AI due to its simplicity and powerful libraries.\",\n",
    "    \"deep learning\":\"Deep Learning is a type of Machine Learning using neural networks with many layers.\",\n",
    "    \"sql\":\"SQL is used in Data Science to manage and query data stored in relational databases.\"\n",
    "}\n",
    "#while creates an infinite loop so that the chatbot keeps running until break\n",
    "while True:\n",
    "    # (.lower()) converts to lowercase for easier matching.\n",
    "    # takes input from the user \n",
    "    question=input(\"You: \").lower()\n",
    "    # exit condition\n",
    "    if question==\"exit\":\n",
    "        print(\"Goodbye!\")\n",
    "        break\n",
    "    #checks any keyword in dictionary that matches the user input\n",
    "    found=False\n",
    "    for keyword,answer in responses.items():\n",
    "        if keyword in question:\n",
    "            print(answer)\n",
    "            found=True\n",
    "            break #stops searching if a match is found\n",
    "        #if no match is found\n",
    "        if not found:\n",
    "            print(\"Sorry,I don't know that yet.Try asking about data science,AI,Python or Machine learning.\")"
   ]
  }
 ],
 "metadata": {
  "kernelspec": {
   "display_name": "Python 3",
   "language": "python",
   "name": "python3"
  },
  "language_info": {
   "codemirror_mode": {
    "name": "ipython",
    "version": 3
   },
   "file_extension": ".py",
   "mimetype": "text/x-python",
   "name": "python",
   "nbconvert_exporter": "python",
   "pygments_lexer": "ipython3",
   "version": "3.13.7"
  }
 },
 "nbformat": 4,
 "nbformat_minor": 5
}
